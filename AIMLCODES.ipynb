{
  "nbformat": 4,
  "nbformat_minor": 0,
  "metadata": {
    "colab": {
      "provenance": []
    },
    "kernelspec": {
      "name": "python3",
      "display_name": "Python 3"
    },
    "language_info": {
      "name": "python"
    }
  },
  "cells": [
    {
      "cell_type": "markdown",
      "source": [
        "Implementation Of Basic Codes."
      ],
      "metadata": {
        "id": "IKuMEcilV92R"
      }
    },
    {
      "cell_type": "code",
      "source": [
        "def print_primes(start, end):\n",
        "    for num in range(start, end + 1):\n",
        "        if num > 1:  # 1 is not a prime number\n",
        "            for i in range(2, int(num ** 0.5) + 1):\n",
        "                if num % i == 0:\n",
        "                    break\n",
        "            else:\n",
        "                print(num)\n",
        "\n",
        "# Example usage:\n",
        "print_primes(10, 50)\n"
      ],
      "metadata": {
        "id": "Vb-t1TWdWBv1"
      },
      "execution_count": null,
      "outputs": []
    },
    {
      "cell_type": "code",
      "source": [
        "x = input(\"Type a number: \")\n",
        "y = input(\"Type another number: \")\n",
        "\n",
        "sum = int(x) + int(y)\n",
        "\n",
        "print(\"The sum is: \", sum)"
      ],
      "metadata": {
        "id": "QZDba_mcWCc4"
      },
      "execution_count": null,
      "outputs": []
    },
    {
      "cell_type": "markdown",
      "source": [
        "Iterative Deepning Algorithm"
      ],
      "metadata": {
        "id": "KjpQaundUQSp"
      }
    },
    {
      "cell_type": "code",
      "execution_count": 1,
      "metadata": {
        "colab": {
          "base_uri": "https://localhost:8080/"
        },
        "id": "QiXjAkzATqnm",
        "outputId": "693f78c5-6d34-41fd-bc7d-35ed9647a131"
      },
      "outputs": [
        {
          "output_type": "stream",
          "name": "stdout",
          "text": [
            "Enter No of Nodes:6\n",
            "Enter No of Edge:7\n",
            "0 1\n",
            "0 2\n",
            "1 2\n",
            "1 3\n",
            "2 5\n",
            "2 6\n",
            "2 7\n",
            "Enter Goal:6\n",
            "Enter Limit:3\n",
            "found within depth limit\n"
          ]
        }
      ],
      "source": [
        "from collections import defaultdict\n",
        "\n",
        "n = int(input(\"Enter No of Nodes:\"))\n",
        "e = int(input(\"Enter No of Edge:\"))\n",
        "\n",
        "graph = defaultdict(list)\n",
        "\n",
        "for i in range(e):\n",
        "    i,j = map(int,input().split())\n",
        "    graph[i].append(j)\n",
        "\n",
        "def dfs(v,goal,limit):\n",
        "    if v == goal:\n",
        "        return 1;\n",
        "\n",
        "    for i in graph[v]:\n",
        "        if limit-1 >= 0:\n",
        "            if dfs(i,goal,limit-1) !=  -1:\n",
        "                return 1\n",
        "    return -1\n",
        "\n",
        "\n",
        "goal = int(input(\"Enter Goal:\"))\n",
        "limit = int(input(\"Enter Limit:\"))\n",
        "\n",
        "res = dfs(0,goal,limit)\n",
        "\n",
        "if res == -1:\n",
        "    print(\"not found\")\n",
        "else:\n",
        "    print(\"found within depth limit\")"
      ]
    },
    {
      "cell_type": "markdown",
      "source": [
        "DFS"
      ],
      "metadata": {
        "id": "0hu3_tHeUavm"
      }
    },
    {
      "cell_type": "code",
      "source": [
        "# Using a Python dictionary to act as an adjacency list\n",
        "graph = {\n",
        "  '5' : ['3','7'],\n",
        "  '3' : ['2', '4'],\n",
        "  '7' : ['8'],\n",
        "  '2' : [],\n",
        "  '4' : ['8'],\n",
        "  '8' : []\n",
        "}\n",
        "\n",
        "visited = set() # Set to keep track of visited nodes of graph.\n",
        "\n",
        "def dfs(visited, graph, node):  #function for dfs\n",
        "    if node not in visited:\n",
        "        print (node)\n",
        "        visited.add(node)\n",
        "        for neighbour in graph[node]:\n",
        "            dfs(visited, graph, neighbour)\n",
        "\n",
        "# Driver Code\n",
        "print(\"Following is the Depth-First Search\")\n",
        "dfs(visited, graph, '5')"
      ],
      "metadata": {
        "colab": {
          "base_uri": "https://localhost:8080/"
        },
        "id": "7MQ5EYdnUfJQ",
        "outputId": "921a6a1f-1e19-4379-de6a-6b5d38effa85"
      },
      "execution_count": 2,
      "outputs": [
        {
          "output_type": "stream",
          "name": "stdout",
          "text": [
            "A\n",
            "B\n",
            "D\n",
            "E\n",
            "F\n",
            "C\n"
          ]
        }
      ]
    },
    {
      "cell_type": "markdown",
      "source": [
        "BFS"
      ],
      "metadata": {
        "id": "LJhz-uGgUjU7"
      }
    },
    {
      "cell_type": "code",
      "source": [
        "graph = {\n",
        "  '5' : ['3','7'],\n",
        "  '3' : ['2', '4'],\n",
        "  '7' : ['8'],\n",
        "  '2' : [],\n",
        "  '4' : ['8'],\n",
        "  '8' : []\n",
        "}\n",
        "\n",
        "visited = [] # List for visited nodes.\n",
        "queue = []     #Initialize a queue\n",
        "\n",
        "def bfs(visited, graph, node): #function for BFS\n",
        "  visited.append(node)\n",
        "  queue.append(node)\n",
        "\n",
        "  while queue:          # Creating loop to visit each node\n",
        "    m = queue.pop(0)\n",
        "    print (m, end = \" \")\n",
        "\n",
        "    for neighbour in graph[m]:\n",
        "      if neighbour not in visited:\n",
        "        visited.append(neighbour)\n",
        "        queue.append(neighbour)\n",
        "\n",
        "# Driver Code\n",
        "print(\"Following is the Breadth-First Search\")\n",
        "bfs(visited, graph, '5')    # function calling"
      ],
      "metadata": {
        "id": "EIIMeEnOVKfk"
      },
      "execution_count": null,
      "outputs": []
    },
    {
      "cell_type": "markdown",
      "source": [
        "Simple Plot Like Bar,Scatter,Histogram,Box plot."
      ],
      "metadata": {
        "id": "YGbg3m5jVLbz"
      }
    },
    {
      "cell_type": "code",
      "source": [
        "import matplotlib.pyplot as plt\n",
        "import numpy as np\n",
        "\n",
        "# Bar Plot\n",
        "x = ['A', 'B', 'C', 'D']\n",
        "y = [10, 20, 30, 40]\n",
        "plt.bar(x, y)\n",
        "plt.title('Bar Plot')\n",
        "plt.show()\n",
        "\n",
        "# Scatter Plot\n",
        "x = np.random.rand(50)\n",
        "y = np.random.rand(50)\n",
        "plt.scatter(x, y)\n",
        "plt.title('Scatter Plot')\n",
        "plt.show()\n",
        "\n",
        "# Histogram\n",
        "data = np.random.randn(1000)\n",
        "plt.hist(data, bins=30)\n",
        "plt.title('Histogram')\n",
        "plt.show()\n",
        "\n",
        "# Box Plot\n",
        "data = np.random.randn(100)\n",
        "plt.boxplot(data)\n",
        "plt.title('Box Plot')\n",
        "plt.show()\n"
      ],
      "metadata": {
        "colab": {
          "base_uri": "https://localhost:8080/",
          "height": 1000
        },
        "id": "ujzClxVVVXZF",
        "outputId": "1f7f42c3-bf4d-4de2-b140-ac239432454c"
      },
      "execution_count": 3,
      "outputs": [
        {
          "output_type": "display_data",
          "data": {
            "text/plain": [
              "<Figure size 640x480 with 1 Axes>"
            ],
            "image/png": "[encoded data removed]"
          },
          "metadata": {}
        },
        {
          "output_type": "display_data",
          "data": {
            "text/plain": [
              "<Figure size 640x480 with 1 Axes>"
            ],
            "image/png": "[encoded data removed]"
          },
          "metadata": {}
        },
        {
          "output_type": "display_data",
          "data": {
            "text/plain": [
              "<Figure size 640x480 with 1 Axes>"
            ],
            "image/png": "[encoded data removed]"
          },
          "metadata": {}
        },
        {
          "output_type": "display_data",
          "data": {
            "text/plain": [
              "<Figure size 640x480 with 1 Axes>"
            ],
            "image/png": "[encoded data removed]"
          },
          "metadata": {}
        }
      ]
    },
    {
      "cell_type": "markdown",
      "source": [
        "Random Moment"
      ],
      "metadata": {
        "id": "Nfsbm6SlVfiY"
      }
    },
    {
      "cell_type": "code",
      "source": [
        "import random\n",
        "import matplotlib.pyplot as plt\n",
        "\n",
        "x, y = 0, 0\n",
        "x_vals, y_vals = [x], [y]\n",
        "\n",
        "for _ in range(1000):\n",
        "    dx, dy = random.choice([(1,0), (-1,0), (0,1), (0,-1)])\n",
        "    x += dx\n",
        "    y += dy\n",
        "    x_vals.append(x)\n",
        "    y_vals.append(y)\n",
        "\n",
        "plt.plot(x_vals, y_vals)\n",
        "plt.title('Random Movement')\n",
        "plt.show()\n"
      ],
      "metadata": {
        "id": "_Lsk-JxrVhc1"
      },
      "execution_count": null,
      "outputs": []
    },
    {
      "cell_type": "markdown",
      "source": [
        "A*"
      ],
      "metadata": {
        "id": "X4HR7eSyVm2t"
      }
    },
    {
      "cell_type": "code",
      "source": [
        "Graph_nodes = {\n",
        "    'A': [('B', 6), ('F', 3)],\n",
        "    'B': [('C', 3), ('D', 2)],\n",
        "    'C': [('D', 1), ('E', 5)],\n",
        "    'D': [('C', 1), ('E', 8)],\n",
        "    'E': [('I', 5), ('J', 5)],\n",
        "    'F': [('G', 1), ('H', 7)],\n",
        "    'G': [('I', 3)],\n",
        "    'H': [('I', 2)],\n",
        "    'I': [('E', 5), ('J', 3)],\n",
        "\n",
        "}\n",
        "\n",
        "\n",
        "def get_neighbors(v):\n",
        "    if v in Graph_nodes:\n",
        "        return Graph_nodes[v]\n",
        "    else:\n",
        "        return None\n",
        "\n",
        "\n",
        "def h(n):\n",
        "    H_dist = {\n",
        "        'A': 10,\n",
        "        'B': 8,\n",
        "        'C': 5,\n",
        "        'D': 7,\n",
        "        'E': 3,\n",
        "        'F': 6,\n",
        "        'G': 5,\n",
        "        'H': 3,\n",
        "        'I': 1,\n",
        "        'J': 0\n",
        "    }\n",
        "    return H_dist[n]\n",
        "\n",
        "\n",
        "def aStarAlgo(start_node, stop_node):\n",
        "    open_set = set(start_node)\n",
        "    closed_set = set()\n",
        "    g = {}\n",
        "    parents = {}\n",
        "    g[start_node] = 0\n",
        "    parents[start_node] = start_node\n",
        "\n",
        "    while len(open_set) > 0:\n",
        "        n = None\n",
        "\n",
        "        for v in open_set:\n",
        "            if n == None or g[v] + h(v) < g[n] + h(n):\n",
        "                n = v\n",
        "\n",
        "        if n == stop_node or Graph_nodes[n] == None:\n",
        "            pass\n",
        "        else:\n",
        "            for (m, weight) in get_neighbors(n):\n",
        "                if m not in open_set and m not in closed_set:\n",
        "                    open_set.add(m)\n",
        "                    parents[m] = n\n",
        "                    g[m] = g[n] + weight\n",
        "\n",
        "                else:\n",
        "                    if g[m] > g[n] + weight:\n",
        "                        g[m] = g[n] + weight\n",
        "                        parents[m] = n\n",
        "                        if m in closed_set:\n",
        "                            closed_set.remove(m)\n",
        "                            open_set.add(m)\n",
        "\n",
        "        if n == None:\n",
        "            print('Path does not exist!')\n",
        "            return None\n",
        "        if n == stop_node:\n",
        "            path = []\n",
        "\n",
        "            while parents[n] != n:\n",
        "                path.append(n)\n",
        "                n = parents[n]\n",
        "\n",
        "            path.append(start_node)\n",
        "\n",
        "            path.reverse()\n",
        "\n",
        "            print('Path found: {}'.format(path))\n",
        "            return path\n",
        "        open_set.remove(n)\n",
        "        closed_set.add(n)\n",
        "\n",
        "    print('Path does not exist!')\n",
        "    return None\n",
        "\n",
        "\n",
        "aStarAlgo('A', 'J')\n"
      ],
      "metadata": {
        "id": "1sH189UEVxsG"
      },
      "execution_count": null,
      "outputs": []
    }
  ]
}